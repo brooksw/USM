{
 "cells": [
  {
   "cell_type": "code",
   "execution_count": null,
   "metadata": {},
   "outputs": [],
   "source": [
    "7+4"
   ]
  },
  {
   "cell_type": "markdown",
   "metadata": {},
   "source": [
    "----------------------\n",
    "---------------------\n",
    "\n",
    "### This is an example of a cell containing formatted text. \n",
    "\n",
    "Look for \"NOTEBOOK CELL OPERATIONS\" in the left column (scroll far down) to find options for formatting text.\n",
    "\n",
    "------------------------------------\n",
    "-----------------------"
   ]
  },
  {
   "cell_type": "markdown",
   "metadata": {},
   "source": [
    "To insert a mathematical formula we use the dollar symbol $, as follows:\n",
    "\n",
    "Euler's identity: $ e^{i \\pi} + 1 = 0 $\n",
    "\n",
    "To isolate and center the formulas and enter in math display mode, we use 2 dollars symbol:\n",
    "$$\n",
    "...\n",
    "$$\n",
    "\n",
    "\n",
    "Euler's identity: $$ e^{i \\pi} + 1 = 0 $$\n",
    "\n"
   ]
  },
  {
   "cell_type": "code",
   "execution_count": null,
   "metadata": {},
   "outputs": [],
   "source": [
    "import pandas as pd\n",
    "\n",
    "# A DataFrame is a 2-dimensional labeled data structure with columns of potentially different types. \n",
    "# You can think of it like a spreadsheet. \n",
    "# It is generally the most commonly used pandas object.\n",
    "\n",
    "# Read the CSV file into a new DataFrame called \"df\", below:\n",
    "\n",
    "df = pd.read_csv(\"https://raw.githubusercontent.com/brooksw/Hooke-s-law-and-oscillatory-motion/main/USM/25g5N_28Oct.csv\")\n",
    "\n",
    "# df.dtypes # this can tell you how the variables are stored, such as \"float64\" (64-bit floating-point numbers).\n",
    "\n",
    "print(df)\n"
   ]
  },
  {
   "cell_type": "code",
   "execution_count": null,
   "metadata": {},
   "outputs": [],
   "source": [
    "# use .loc[] to get data with the specified row and column names.\n",
    "# in the following, the colon \":\" means \"all of the rows\"\n",
    "\n",
    "df.loc[:, 'Time']"
   ]
  },
  {
   "cell_type": "code",
   "execution_count": null,
   "metadata": {},
   "outputs": [],
   "source": [
    "xdata=df.loc[:, 'Time']\n",
    "ydata1=df.loc[:, 'Position']\n",
    "ydata2=df.loc[:, 'Velocity']\n",
    "ydata3=df.loc[:, 'Acceleration']\n",
    "# print(xdata)  # you can check to see if the above kind of command worked.\n",
    "print(ydata1) # etc. "
   ]
  },
  {
   "cell_type": "code",
   "execution_count": null,
   "metadata": {},
   "outputs": [],
   "source": [
    "import matplotlib.pyplot as plt;\n",
    "import numpy as np;\n",
    "import scipy.optimize as opt;\n",
    "\n",
    "# This is the function we are trying to fit to the data.\n",
    "def func(x, a, b, c, d):\n",
    "     return a * np.sin(b * x + c) + d\n",
    "\n",
    "# Plot the actual data. The period symbol \".\" indicates to use round dots on the graph. \n",
    "plt.plot(xdata, ydata1, \".\", label=\"Data\")\n",
    "\n",
    "a = 0.025/2\n",
    "b = 14\n",
    "c = 0\n",
    "d = 0.063\n",
    "\n",
    "initial_guess = [a, b, c, d]\n",
    "\n",
    "# The actual curve fitting happens here\n",
    "optimizedParameters, pcov = opt.curve_fit(func, xdata, ydata1, p0=initial_guess, method=\"dogbox\")\n",
    "# The documentation for the above is at this link, in case you're interested: \n",
    "# https://docs.scipy.org/doc/scipy/reference/generated/scipy.optimize.curve_fit.html\n",
    "\n",
    "# A fitting tutorial is here, in case you're interested: \n",
    "# https://astrofrog.github.io/py4sci/_static/15.%20Fitting%20models%20to%20data.html\n",
    "\n",
    "#print(pcov) # to see the covariance matrix for the fit, if you wish\n",
    "perr = np.sqrt(np.diag(pcov))\n",
    "#print(perr) # to see the fit parameter uncertainties, if you wish\n",
    "\n",
    "print (\"Output fit parameters: a=\",optimizedParameters[0],\",   b=\",optimizedParameters[1], \n",
    "       \",    c=\",optimizedParameters[2],\",    d=\",optimizedParameters[3])\n",
    "\n",
    "print (\"Fit parameter errors: ea=\",perr[0],\", eb=\",perr[1], \n",
    "       \", ec=\",perr[2],\", ed=\",perr[3])\n",
    "\n",
    "# Use the optimized parameters to plot the best fit\n",
    "plt.plot(xdata, func(xdata, *optimizedParameters),'r-', label=\"Fit\")\n",
    "\n",
    "\n",
    "# Show the graph\n",
    "plt.legend()\n",
    "plt.show()"
   ]
  },
  {
   "cell_type": "code",
   "execution_count": null,
   "metadata": {},
   "outputs": [],
   "source": [
    "### This code can be used as a model for future projects. \n",
    "### Beware, it uses the same variables as the above code, so you need to start from the top of the notebook\n",
    "### to redefine the variables for the code above.\n",
    "\n",
    "import matplotlib.pyplot as plt;\n",
    "import numpy as np;\n",
    "import scipy.optimize as opt;\n",
    "\n",
    "# This is the function we are trying to fit to the data.\n",
    "def func(x, a, b, c):\n",
    "     return a * np.exp(-b * x) + c\n",
    "\n",
    "# Generate some data, you don't have to do this, as you already have your data\n",
    "xdata = np.linspace(0, 4, 50)\n",
    "y = func(xdata, 2.5, 1.3, 0.5)\n",
    "y_noise = 0.2 * np.random.normal(size=xdata.size)\n",
    "ydata = y + y_noise\n",
    "\n",
    "# Plot the actual data\n",
    "plt.plot(xdata, ydata, \".\", label=\"Data\");\n",
    "\n",
    "# The actual curve fitting happens here\n",
    "optimizedParameters, pcov = opt.curve_fit(func, xdata, ydata);\n",
    "\n",
    "# Use the optimized parameters to plot the best fit\n",
    "plt.plot(xdata, func(xdata, *optimizedParameters), label=\"fit\");\n",
    "\n",
    "# Show the graph\n",
    "plt.legend();\n",
    "plt.show();"
   ]
  },
  {
   "cell_type": "code",
   "execution_count": null,
   "metadata": {},
   "outputs": [],
   "source": []
  },
  {
   "cell_type": "code",
   "execution_count": null,
   "metadata": {},
   "outputs": [],
   "source": [
    "# this shows how to make multiple plots\n",
    "\n",
    "import matplotlib.pyplot as plt\n",
    "import numpy as np\n",
    "\n",
    "t = np.arange(0.01, 5.0, 0.05)\n",
    "s1 = np.sin(2 * np.pi * t)\n",
    "s2 = np.exp(-t)\n",
    "s3 = np.sin(4 * np.pi * t)\n",
    "\n",
    "ax1 = plt.subplot(311)\n",
    "plt.plot(t, s1)\n",
    "plt.setp(ax1.get_xticklabels(), fontsize=6)\n",
    "\n",
    "# share x only\n",
    "ax2 = plt.subplot(312, sharex=ax1)\n",
    "plt.plot(t, s2)\n",
    "# make these tick labels invisible\n",
    "plt.setp(ax2.get_xticklabels(), visible=False)\n",
    "\n",
    "# share x and y\n",
    "ax3 = plt.subplot(313, sharex=ax1, sharey=ax1)\n",
    "plt.plot(t, s3)\n",
    "plt.xlim(0.01, 5.0)\n",
    "plt.show()"
   ]
  }
 ],
 "metadata": {
  "kernelspec": {
   "display_name": "Python 3",
   "language": "python",
   "name": "python3"
  },
  "language_info": {
   "codemirror_mode": {
    "name": "ipython",
    "version": 3
   },
   "file_extension": ".py",
   "mimetype": "text/x-python",
   "name": "python",
   "nbconvert_exporter": "python",
   "pygments_lexer": "ipython3",
   "version": "3.6.1"
  }
 },
 "nbformat": 4,
 "nbformat_minor": 4
}
